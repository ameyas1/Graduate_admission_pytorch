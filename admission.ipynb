{
  "nbformat": 4,
  "nbformat_minor": 0,
  "metadata": {
    "colab": {
      "name": "admission.ipynb",
      "version": "0.3.2",
      "provenance": [],
      "collapsed_sections": [],
      "include_colab_link": true
    },
    "kernelspec": {
      "name": "python3",
      "display_name": "Python 3"
    }
  },
  "cells": [
    {
      "cell_type": "markdown",
      "metadata": {
        "id": "view-in-github",
        "colab_type": "text"
      },
      "source": [
        "<a href=\"https://colab.research.google.com/github/ameyas1/Graduate_admission_pytorch/blob/master/admission.ipynb\" target=\"_parent\"><img src=\"https://colab.research.google.com/assets/colab-badge.svg\" alt=\"Open In Colab\"/></a>"
      ]
    },
    {
      "metadata": {
        "id": "XtOinPePzDvP",
        "colab_type": "code",
        "colab": {}
      },
      "cell_type": "code",
      "source": [
        "import torch\n",
        "import pandas as pd\n",
        "import numpy as np\n",
        "import torch.nn as nn\n",
        "import torch.nn.functional as F\n",
        "import seaborn as sns\n",
        "from torch import optim"
      ],
      "execution_count": 0,
      "outputs": []
    },
    {
      "metadata": {
        "id": "HdUXd24-BK2O",
        "colab_type": "code",
        "colab": {}
      },
      "cell_type": "code",
      "source": [
        "import matplotlib.pyplot as plt\n",
        "%matplotlib inline"
      ],
      "execution_count": 0,
      "outputs": []
    },
    {
      "metadata": {
        "id": "OUdXXL-yzx4r",
        "colab_type": "code",
        "colab": {}
      },
      "cell_type": "code",
      "source": [
        "df=pd.read_csv('Admission_Predict.csv')"
      ],
      "execution_count": 0,
      "outputs": []
    },
    {
      "metadata": {
        "id": "Xb8HMozDz4R4",
        "colab_type": "code",
        "outputId": "ba7f3e23-cf61-4233-8c76-cbeab72b1ad5",
        "colab": {
          "base_uri": "https://localhost:8080/",
          "height": 202
        }
      },
      "cell_type": "code",
      "source": [
        "df.head()"
      ],
      "execution_count": 26,
      "outputs": [
        {
          "output_type": "execute_result",
          "data": {
            "text/html": [
              "<div>\n",
              "<style scoped>\n",
              "    .dataframe tbody tr th:only-of-type {\n",
              "        vertical-align: middle;\n",
              "    }\n",
              "\n",
              "    .dataframe tbody tr th {\n",
              "        vertical-align: top;\n",
              "    }\n",
              "\n",
              "    .dataframe thead th {\n",
              "        text-align: right;\n",
              "    }\n",
              "</style>\n",
              "<table border=\"1\" class=\"dataframe\">\n",
              "  <thead>\n",
              "    <tr style=\"text-align: right;\">\n",
              "      <th></th>\n",
              "      <th>Serial No.</th>\n",
              "      <th>GRE Score</th>\n",
              "      <th>TOEFL Score</th>\n",
              "      <th>University Rating</th>\n",
              "      <th>SOP</th>\n",
              "      <th>LOR</th>\n",
              "      <th>CGPA</th>\n",
              "      <th>Research</th>\n",
              "      <th>Chance of Admit</th>\n",
              "    </tr>\n",
              "  </thead>\n",
              "  <tbody>\n",
              "    <tr>\n",
              "      <th>0</th>\n",
              "      <td>1</td>\n",
              "      <td>337</td>\n",
              "      <td>118</td>\n",
              "      <td>4</td>\n",
              "      <td>4.5</td>\n",
              "      <td>4.5</td>\n",
              "      <td>9.65</td>\n",
              "      <td>1</td>\n",
              "      <td>0.92</td>\n",
              "    </tr>\n",
              "    <tr>\n",
              "      <th>1</th>\n",
              "      <td>2</td>\n",
              "      <td>324</td>\n",
              "      <td>107</td>\n",
              "      <td>4</td>\n",
              "      <td>4.0</td>\n",
              "      <td>4.5</td>\n",
              "      <td>8.87</td>\n",
              "      <td>1</td>\n",
              "      <td>0.76</td>\n",
              "    </tr>\n",
              "    <tr>\n",
              "      <th>2</th>\n",
              "      <td>3</td>\n",
              "      <td>316</td>\n",
              "      <td>104</td>\n",
              "      <td>3</td>\n",
              "      <td>3.0</td>\n",
              "      <td>3.5</td>\n",
              "      <td>8.00</td>\n",
              "      <td>1</td>\n",
              "      <td>0.72</td>\n",
              "    </tr>\n",
              "    <tr>\n",
              "      <th>3</th>\n",
              "      <td>4</td>\n",
              "      <td>322</td>\n",
              "      <td>110</td>\n",
              "      <td>3</td>\n",
              "      <td>3.5</td>\n",
              "      <td>2.5</td>\n",
              "      <td>8.67</td>\n",
              "      <td>1</td>\n",
              "      <td>0.80</td>\n",
              "    </tr>\n",
              "    <tr>\n",
              "      <th>4</th>\n",
              "      <td>5</td>\n",
              "      <td>314</td>\n",
              "      <td>103</td>\n",
              "      <td>2</td>\n",
              "      <td>2.0</td>\n",
              "      <td>3.0</td>\n",
              "      <td>8.21</td>\n",
              "      <td>0</td>\n",
              "      <td>0.65</td>\n",
              "    </tr>\n",
              "  </tbody>\n",
              "</table>\n",
              "</div>"
            ],
            "text/plain": [
              "   Serial No.  GRE Score  TOEFL Score  University Rating  SOP  LOR   CGPA  \\\n",
              "0           1        337          118                  4  4.5   4.5  9.65   \n",
              "1           2        324          107                  4  4.0   4.5  8.87   \n",
              "2           3        316          104                  3  3.0   3.5  8.00   \n",
              "3           4        322          110                  3  3.5   2.5  8.67   \n",
              "4           5        314          103                  2  2.0   3.0  8.21   \n",
              "\n",
              "   Research  Chance of Admit   \n",
              "0         1              0.92  \n",
              "1         1              0.76  \n",
              "2         1              0.72  \n",
              "3         1              0.80  \n",
              "4         0              0.65  "
            ]
          },
          "metadata": {
            "tags": []
          },
          "execution_count": 26
        }
      ]
    },
    {
      "metadata": {
        "id": "1UT41TuLz6zP",
        "colab_type": "code",
        "outputId": "775fa90f-9c4e-44a4-9890-c282075d6ab3",
        "colab": {
          "base_uri": "https://localhost:8080/",
          "height": 190
        }
      },
      "cell_type": "code",
      "source": [
        "df.isnull().sum()"
      ],
      "execution_count": 27,
      "outputs": [
        {
          "output_type": "execute_result",
          "data": {
            "text/plain": [
              "Serial No.           0\n",
              "GRE Score            0\n",
              "TOEFL Score          0\n",
              "University Rating    0\n",
              "SOP                  0\n",
              "LOR                  0\n",
              "CGPA                 0\n",
              "Research             0\n",
              "Chance of Admit      0\n",
              "dtype: int64"
            ]
          },
          "metadata": {
            "tags": []
          },
          "execution_count": 27
        }
      ]
    },
    {
      "metadata": {
        "id": "FkfCh8MY04C5",
        "colab_type": "code",
        "colab": {}
      },
      "cell_type": "code",
      "source": [
        "df.drop('Serial No.', inplace=True, axis=1)\n",
        "df.rename({'GRE Score':'Gre_Score','TOEFL Score':'TOEFL_Score','Chance of Admit ': 'Chance_of_Admit', 'LOR ':'LOR','University Rating':'University_Rating'}, axis=1, inplace=True)"
      ],
      "execution_count": 0,
      "outputs": []
    },
    {
      "metadata": {
        "id": "jzi1SgZH0Bxc",
        "colab_type": "code",
        "outputId": "7f7ffd35-6ce8-435c-dee8-c6ec6d816536",
        "colab": {
          "base_uri": "https://localhost:8080/",
          "height": 294
        }
      },
      "cell_type": "code",
      "source": [
        "df.describe()"
      ],
      "execution_count": 29,
      "outputs": [
        {
          "output_type": "execute_result",
          "data": {
            "text/html": [
              "<div>\n",
              "<style scoped>\n",
              "    .dataframe tbody tr th:only-of-type {\n",
              "        vertical-align: middle;\n",
              "    }\n",
              "\n",
              "    .dataframe tbody tr th {\n",
              "        vertical-align: top;\n",
              "    }\n",
              "\n",
              "    .dataframe thead th {\n",
              "        text-align: right;\n",
              "    }\n",
              "</style>\n",
              "<table border=\"1\" class=\"dataframe\">\n",
              "  <thead>\n",
              "    <tr style=\"text-align: right;\">\n",
              "      <th></th>\n",
              "      <th>Gre_Score</th>\n",
              "      <th>TOEFL_Score</th>\n",
              "      <th>University_Rating</th>\n",
              "      <th>SOP</th>\n",
              "      <th>LOR</th>\n",
              "      <th>CGPA</th>\n",
              "      <th>Research</th>\n",
              "      <th>Chance_of_Admit</th>\n",
              "    </tr>\n",
              "  </thead>\n",
              "  <tbody>\n",
              "    <tr>\n",
              "      <th>count</th>\n",
              "      <td>400.000000</td>\n",
              "      <td>400.000000</td>\n",
              "      <td>400.000000</td>\n",
              "      <td>400.000000</td>\n",
              "      <td>400.000000</td>\n",
              "      <td>400.000000</td>\n",
              "      <td>400.000000</td>\n",
              "      <td>400.000000</td>\n",
              "    </tr>\n",
              "    <tr>\n",
              "      <th>mean</th>\n",
              "      <td>316.807500</td>\n",
              "      <td>107.410000</td>\n",
              "      <td>3.087500</td>\n",
              "      <td>3.400000</td>\n",
              "      <td>3.452500</td>\n",
              "      <td>8.598925</td>\n",
              "      <td>0.547500</td>\n",
              "      <td>0.724350</td>\n",
              "    </tr>\n",
              "    <tr>\n",
              "      <th>std</th>\n",
              "      <td>11.473646</td>\n",
              "      <td>6.069514</td>\n",
              "      <td>1.143728</td>\n",
              "      <td>1.006869</td>\n",
              "      <td>0.898478</td>\n",
              "      <td>0.596317</td>\n",
              "      <td>0.498362</td>\n",
              "      <td>0.142609</td>\n",
              "    </tr>\n",
              "    <tr>\n",
              "      <th>min</th>\n",
              "      <td>290.000000</td>\n",
              "      <td>92.000000</td>\n",
              "      <td>1.000000</td>\n",
              "      <td>1.000000</td>\n",
              "      <td>1.000000</td>\n",
              "      <td>6.800000</td>\n",
              "      <td>0.000000</td>\n",
              "      <td>0.340000</td>\n",
              "    </tr>\n",
              "    <tr>\n",
              "      <th>25%</th>\n",
              "      <td>308.000000</td>\n",
              "      <td>103.000000</td>\n",
              "      <td>2.000000</td>\n",
              "      <td>2.500000</td>\n",
              "      <td>3.000000</td>\n",
              "      <td>8.170000</td>\n",
              "      <td>0.000000</td>\n",
              "      <td>0.640000</td>\n",
              "    </tr>\n",
              "    <tr>\n",
              "      <th>50%</th>\n",
              "      <td>317.000000</td>\n",
              "      <td>107.000000</td>\n",
              "      <td>3.000000</td>\n",
              "      <td>3.500000</td>\n",
              "      <td>3.500000</td>\n",
              "      <td>8.610000</td>\n",
              "      <td>1.000000</td>\n",
              "      <td>0.730000</td>\n",
              "    </tr>\n",
              "    <tr>\n",
              "      <th>75%</th>\n",
              "      <td>325.000000</td>\n",
              "      <td>112.000000</td>\n",
              "      <td>4.000000</td>\n",
              "      <td>4.000000</td>\n",
              "      <td>4.000000</td>\n",
              "      <td>9.062500</td>\n",
              "      <td>1.000000</td>\n",
              "      <td>0.830000</td>\n",
              "    </tr>\n",
              "    <tr>\n",
              "      <th>max</th>\n",
              "      <td>340.000000</td>\n",
              "      <td>120.000000</td>\n",
              "      <td>5.000000</td>\n",
              "      <td>5.000000</td>\n",
              "      <td>5.000000</td>\n",
              "      <td>9.920000</td>\n",
              "      <td>1.000000</td>\n",
              "      <td>0.970000</td>\n",
              "    </tr>\n",
              "  </tbody>\n",
              "</table>\n",
              "</div>"
            ],
            "text/plain": [
              "        Gre_Score  TOEFL_Score  University_Rating         SOP         LOR  \\\n",
              "count  400.000000   400.000000         400.000000  400.000000  400.000000   \n",
              "mean   316.807500   107.410000           3.087500    3.400000    3.452500   \n",
              "std     11.473646     6.069514           1.143728    1.006869    0.898478   \n",
              "min    290.000000    92.000000           1.000000    1.000000    1.000000   \n",
              "25%    308.000000   103.000000           2.000000    2.500000    3.000000   \n",
              "50%    317.000000   107.000000           3.000000    3.500000    3.500000   \n",
              "75%    325.000000   112.000000           4.000000    4.000000    4.000000   \n",
              "max    340.000000   120.000000           5.000000    5.000000    5.000000   \n",
              "\n",
              "             CGPA    Research  Chance_of_Admit  \n",
              "count  400.000000  400.000000       400.000000  \n",
              "mean     8.598925    0.547500         0.724350  \n",
              "std      0.596317    0.498362         0.142609  \n",
              "min      6.800000    0.000000         0.340000  \n",
              "25%      8.170000    0.000000         0.640000  \n",
              "50%      8.610000    1.000000         0.730000  \n",
              "75%      9.062500    1.000000         0.830000  \n",
              "max      9.920000    1.000000         0.970000  "
            ]
          },
          "metadata": {
            "tags": []
          },
          "execution_count": 29
        }
      ]
    },
    {
      "metadata": {
        "id": "T4jdL7rF22FJ",
        "colab_type": "code",
        "outputId": "ee1cea7d-917d-47d1-ba17-bdf008235611",
        "colab": {
          "base_uri": "https://localhost:8080/",
          "height": 380
        }
      },
      "cell_type": "code",
      "source": [
        "sns.heatmap(df.corr(), annot=True).set_title('Correlation Factors Heat Map', color='black', size='30')"
      ],
      "execution_count": 30,
      "outputs": [
        {
          "output_type": "execute_result",
          "data": {
            "text/plain": [
              "Text(0.5, 1.0, 'Correlation Factors Heat Map')"
            ]
          },
          "metadata": {
            "tags": []
          },
          "execution_count": 30
        },
        {
          "output_type": "display_data",
          "data": {
            "image/png": "[encoded data removed]",
            "text/plain": [
              "<Figure size 432x288 with 2 Axes>"
            ]
          },
          "metadata": {
            "tags": []
          }
        }
      ]
    },
    {
      "metadata": {
        "id": "3fueH2ga3vec",
        "colab_type": "code",
        "colab": {}
      },
      "cell_type": "code",
      "source": [
        "cols=['Gre_Score','TOEFL_Score','University_Rating','SOP','LOR','CGPA','Research']\n",
        "x=df[cols]\n",
        "y=df[['Chance_of_Admit']]"
      ],
      "execution_count": 0,
      "outputs": []
    },
    {
      "metadata": {
        "id": "oRzyYUMk3Pq0",
        "colab_type": "code",
        "colab": {}
      },
      "cell_type": "code",
      "source": [
        "from sklearn.model_selection import train_test_split\n",
        "x_1, x_test, y_1, y_test = train_test_split(x, y, test_size=0.1)"
      ],
      "execution_count": 0,
      "outputs": []
    },
    {
      "metadata": {
        "id": "n7v7nx6c7PCD",
        "colab_type": "code",
        "outputId": "1c095d4b-f0af-4d6e-ac17-0dac7c6781aa",
        "colab": {
          "base_uri": "https://localhost:8080/",
          "height": 141
        }
      },
      "cell_type": "code",
      "source": [
        "from sklearn.preprocessing import StandardScaler\n",
        "scaler = StandardScaler()\n",
        "x_1_mod=scaler.fit_transform(x_1)\n",
        "x_test_mod=scaler.transform(x_test)"
      ],
      "execution_count": 33,
      "outputs": [
        {
          "output_type": "stream",
          "text": [
            "/usr/local/lib/python3.6/dist-packages/sklearn/preprocessing/data.py:645: DataConversionWarning: Data with input dtype int64, float64 were all converted to float64 by StandardScaler.\n",
            "  return self.partial_fit(X, y)\n",
            "/usr/local/lib/python3.6/dist-packages/sklearn/base.py:464: DataConversionWarning: Data with input dtype int64, float64 were all converted to float64 by StandardScaler.\n",
            "  return self.fit(X, **fit_params).transform(X)\n",
            "/usr/local/lib/python3.6/dist-packages/ipykernel_launcher.py:4: DataConversionWarning: Data with input dtype int64, float64 were all converted to float64 by StandardScaler.\n",
            "  after removing the cwd from sys.path.\n"
          ],
          "name": "stderr"
        }
      ]
    },
    {
      "metadata": {
        "id": "ivMr4PVv4fAY",
        "colab_type": "code",
        "colab": {}
      },
      "cell_type": "code",
      "source": [
        "x_train_mod, x_val_mod, y_train, y_val = train_test_split(x_1_mod, y_1, test_size=0.1)"
      ],
      "execution_count": 0,
      "outputs": []
    },
    {
      "metadata": {
        "id": "8Wk5211nDP4I",
        "colab_type": "code",
        "colab": {}
      },
      "cell_type": "code",
      "source": [
        "import torch.utils.data as data_utils\n",
        "import torchvision.transforms as transforms\n",
        "\n",
        "\n",
        "train = data_utils.TensorDataset(torch.Tensor(x_train_mod) , torch.Tensor(y_train.values.reshape(-1)))\n",
        "train_loader = data_utils.DataLoader(train, batch_size=50, shuffle=True)"
      ],
      "execution_count": 0,
      "outputs": []
    },
    {
      "metadata": {
        "id": "SNRlQX4LDeE0",
        "colab_type": "code",
        "colab": {}
      },
      "cell_type": "code",
      "source": [
        "test = data_utils.TensorDataset(torch.Tensor(x_test_mod) , torch.Tensor(np.array(y_test.values.reshape(-1))))\n",
        "test_loader = data_utils.DataLoader(train, batch_size=10, shuffle=True)"
      ],
      "execution_count": 0,
      "outputs": []
    },
    {
      "metadata": {
        "id": "sool_gc4jjVs",
        "colab_type": "code",
        "colab": {}
      },
      "cell_type": "code",
      "source": [
        "val = data_utils.TensorDataset(torch.Tensor(x_val_mod) , torch.Tensor(y_val.values.reshape(-1)))\n",
        "val_loader = data_utils.DataLoader(val, batch_size=50, shuffle=True)"
      ],
      "execution_count": 0,
      "outputs": []
    },
    {
      "metadata": {
        "id": "qzeiAEIu8WZA",
        "colab_type": "code",
        "colab": {}
      },
      "cell_type": "code",
      "source": [
        "class Network(nn.Module):\n",
        "  def __init__(self):\n",
        "    super().__init__()\n",
        "    self.hidden1 = nn.Linear(7, 8)\n",
        "    self.hidden2 = nn.Linear(8, 5)\n",
        "    self.output = nn.Linear(5, 1)\n",
        "    self.dropout = nn.Dropout(0.2)\n",
        "        \n",
        "  def forward(self, x):\n",
        "    x=self.hidden1(x)\n",
        "    x=self.dropout(x)\n",
        "    x=self.hidden2(x)\n",
        "    x=self.dropout(x)\n",
        "    x=self.output(x)\n",
        "    return x"
      ],
      "execution_count": 0,
      "outputs": []
    },
    {
      "metadata": {
        "id": "huT8AIsc-eFr",
        "colab_type": "code",
        "outputId": "26c52b4b-7bc6-4cad-8a4d-0014a8524fe8",
        "colab": {
          "base_uri": "https://localhost:8080/",
          "height": 121
        }
      },
      "cell_type": "code",
      "source": [
        "model=Network()\n",
        "model"
      ],
      "execution_count": 39,
      "outputs": [
        {
          "output_type": "execute_result",
          "data": {
            "text/plain": [
              "Network(\n",
              "  (hidden1): Linear(in_features=7, out_features=8, bias=True)\n",
              "  (hidden2): Linear(in_features=8, out_features=5, bias=True)\n",
              "  (output): Linear(in_features=5, out_features=1, bias=True)\n",
              "  (dropout): Dropout(p=0.2)\n",
              ")"
            ]
          },
          "metadata": {
            "tags": []
          },
          "execution_count": 39
        }
      ]
    },
    {
      "metadata": {
        "id": "P6PxL_77-nGb",
        "colab_type": "code",
        "colab": {}
      },
      "cell_type": "code",
      "source": [
        "criterion = nn.MSELoss()\n",
        "optimizer = optim.Adam(model.parameters(), lr=0.003)\n"
      ],
      "execution_count": 0,
      "outputs": []
    },
    {
      "metadata": {
        "id": "vXabOxCBAxaV",
        "colab_type": "code",
        "outputId": "17a78cf2-7a0d-4e7e-9713-a70fd344ee77",
        "colab": {
          "base_uri": "https://localhost:8080/",
          "height": 4177
        }
      },
      "cell_type": "code",
      "source": [
        "n_epochs = 200\n",
        "train_losses=[]\n",
        "val_losses=[]\n",
        "\n",
        "# initialize tracker for minimum validation loss\n",
        "valid_loss_min = np.Inf # set initial \"min\" to infinity\n",
        "\n",
        "for epoch in range(n_epochs):\n",
        "    # monitor training loss\n",
        "    train_loss = 0.0\n",
        "    valid_loss = 0.0\n",
        "    \n",
        "    ###################\n",
        "    # train the model #\n",
        "    ###################\n",
        "    model.train() # prep model for training\n",
        "    for data, target in train_loader:\n",
        "        # clear the gradients of all optimized variables\n",
        "        optimizer.zero_grad()\n",
        "        # forward pass: compute predicted outputs by passing inputs to the model\n",
        "        output = model(data)\n",
        "        # calculate the loss\n",
        "        loss = criterion(output, target)\n",
        "        # backward pass: compute gradient of the loss with respect to model parameters\n",
        "        loss.backward()\n",
        "        # perform a single optimization step (parameter update)\n",
        "        optimizer.step()\n",
        "        # update running training loss\n",
        "        train_loss += loss.item()*data.size(0)\n",
        "        \n",
        "    ######################    \n",
        "    # validate the model #\n",
        "    ######################\n",
        "    model.eval() # prep model for evaluation\n",
        "    for data, target in val_loader:\n",
        "        # forward pass: compute predicted outputs by passing inputs to the model\n",
        "        output = model(data)\n",
        "        # calculate the loss\n",
        "        loss = criterion(output, target)\n",
        "        # update running validation loss \n",
        "        valid_loss += loss.item()*data.size(0)\n",
        "        \n",
        "    # print training/validation statistics \n",
        "    # calculate average loss over an epoch\n",
        "    train_loss = train_loss/len(train_loader.dataset)\n",
        "    valid_loss = valid_loss/len(val_loader.dataset)\n",
        "    train_losses.append(train_loss)\n",
        "    val_losses.append(valid_loss)\n",
        "    \n",
        "    print('Epoch: {} \\tTraining Loss: {:.6f} \\tValidation Loss: {:.6f}'.format(\n",
        "        epoch+1, \n",
        "        train_loss,\n",
        "        valid_loss\n",
        "        ))\n",
        "    \n",
        "    # save model if validation loss has decreased\n",
        "    if valid_loss <= valid_loss_min:\n",
        "        print('Validation loss decreased ({:.6f} --> {:.6f}).  Saving model ...'.format(\n",
        "        valid_loss_min,\n",
        "        valid_loss))\n",
        "        torch.save(model.state_dict(), 'model.pt')\n",
        "        valid_loss_min = valid_loss"
      ],
      "execution_count": 41,
      "outputs": [
        {
          "output_type": "stream",
          "text": [
            "Epoch: 1 \tTraining Loss: 1.253663 \tValidation Loss: 1.035792\n",
            "Validation loss decreased (inf --> 1.035792).  Saving model ...\n",
            "Epoch: 2 \tTraining Loss: 0.950268 \tValidation Loss: 0.792862\n",
            "Validation loss decreased (1.035792 --> 0.792862).  Saving model ...\n",
            "Epoch: 3 \tTraining Loss: 0.771200 \tValidation Loss: 0.623491\n",
            "Validation loss decreased (0.792862 --> 0.623491).  Saving model ...\n",
            "Epoch: 4 \tTraining Loss: 0.606131 \tValidation Loss: 0.494227\n",
            "Validation loss decreased (0.623491 --> 0.494227).  Saving model ...\n",
            "Epoch: 5 \tTraining Loss: 0.495408 \tValidation Loss: 0.389406\n",
            "Validation loss decreased (0.494227 --> 0.389406).  Saving model ...\n",
            "Epoch: 6 \tTraining Loss: 0.413657 \tValidation Loss: 0.298476\n",
            "Validation loss decreased (0.389406 --> 0.298476).  Saving model ...\n",
            "Epoch: 7 \tTraining Loss: 0.321148 \tValidation Loss: 0.220123\n",
            "Validation loss decreased (0.298476 --> 0.220123).  Saving model ...\n",
            "Epoch: 8 \tTraining Loss: 0.245192 \tValidation Loss: 0.153009\n",
            "Validation loss decreased (0.220123 --> 0.153009).  Saving model ...\n",
            "Epoch: 9 \tTraining Loss: 0.194493 \tValidation Loss: 0.098518\n",
            "Validation loss decreased (0.153009 --> 0.098518).  Saving model ...\n",
            "Epoch: 10 \tTraining Loss: 0.167532 \tValidation Loss: 0.060536\n",
            "Validation loss decreased (0.098518 --> 0.060536).  Saving model ...\n",
            "Epoch: 11 \tTraining Loss: 0.125683 \tValidation Loss: 0.037286\n",
            "Validation loss decreased (0.060536 --> 0.037286).  Saving model ...\n",
            "Epoch: 12 \tTraining Loss: 0.110116 \tValidation Loss: 0.026649\n",
            "Validation loss decreased (0.037286 --> 0.026649).  Saving model ...\n",
            "Epoch: 13 \tTraining Loss: 0.109880 \tValidation Loss: 0.022616\n",
            "Validation loss decreased (0.026649 --> 0.022616).  Saving model ...\n",
            "Epoch: 14 \tTraining Loss: 0.093173 \tValidation Loss: 0.021310\n",
            "Validation loss decreased (0.022616 --> 0.021310).  Saving model ...\n",
            "Epoch: 15 \tTraining Loss: 0.096803 \tValidation Loss: 0.021154\n",
            "Validation loss decreased (0.021310 --> 0.021154).  Saving model ...\n",
            "Epoch: 16 \tTraining Loss: 0.106954 \tValidation Loss: 0.019837\n",
            "Validation loss decreased (0.021154 --> 0.019837).  Saving model ...\n",
            "Epoch: 17 \tTraining Loss: 0.083554 \tValidation Loss: 0.019192\n",
            "Validation loss decreased (0.019837 --> 0.019192).  Saving model ...\n",
            "Epoch: 18 \tTraining Loss: 0.089186 \tValidation Loss: 0.018434\n",
            "Validation loss decreased (0.019192 --> 0.018434).  Saving model ...\n",
            "Epoch: 19 \tTraining Loss: 0.078546 \tValidation Loss: 0.017561\n",
            "Validation loss decreased (0.018434 --> 0.017561).  Saving model ...\n",
            "Epoch: 20 \tTraining Loss: 0.082434 \tValidation Loss: 0.017232\n",
            "Validation loss decreased (0.017561 --> 0.017232).  Saving model ...\n",
            "Epoch: 21 \tTraining Loss: 0.082404 \tValidation Loss: 0.016579\n",
            "Validation loss decreased (0.017232 --> 0.016579).  Saving model ...\n",
            "Epoch: 22 \tTraining Loss: 0.070638 \tValidation Loss: 0.016249\n",
            "Validation loss decreased (0.016579 --> 0.016249).  Saving model ...\n",
            "Epoch: 23 \tTraining Loss: 0.072643 \tValidation Loss: 0.016065\n",
            "Validation loss decreased (0.016249 --> 0.016065).  Saving model ...\n",
            "Epoch: 24 \tTraining Loss: 0.069201 \tValidation Loss: 0.016199\n",
            "Epoch: 25 \tTraining Loss: 0.070318 \tValidation Loss: 0.016386\n",
            "Epoch: 26 \tTraining Loss: 0.065873 \tValidation Loss: 0.016420\n",
            "Epoch: 27 \tTraining Loss: 0.069127 \tValidation Loss: 0.016807\n",
            "Epoch: 28 \tTraining Loss: 0.061967 \tValidation Loss: 0.017310\n",
            "Epoch: 29 \tTraining Loss: 0.065810 \tValidation Loss: 0.017612\n",
            "Epoch: 30 \tTraining Loss: 0.065038 \tValidation Loss: 0.017121\n",
            "Epoch: 31 \tTraining Loss: 0.062139 \tValidation Loss: 0.016092\n",
            "Epoch: 32 \tTraining Loss: 0.060552 \tValidation Loss: 0.015247\n",
            "Validation loss decreased (0.016065 --> 0.015247).  Saving model ...\n",
            "Epoch: 33 \tTraining Loss: 0.058720 \tValidation Loss: 0.014920\n",
            "Validation loss decreased (0.015247 --> 0.014920).  Saving model ...\n",
            "Epoch: 34 \tTraining Loss: 0.063770 \tValidation Loss: 0.014969\n",
            "Epoch: 35 \tTraining Loss: 0.059474 \tValidation Loss: 0.015558\n",
            "Epoch: 36 \tTraining Loss: 0.058862 \tValidation Loss: 0.015635\n",
            "Epoch: 37 \tTraining Loss: 0.057165 \tValidation Loss: 0.015761\n",
            "Epoch: 38 \tTraining Loss: 0.057292 \tValidation Loss: 0.016120\n",
            "Epoch: 39 \tTraining Loss: 0.051241 \tValidation Loss: 0.015903\n",
            "Epoch: 40 \tTraining Loss: 0.056742 \tValidation Loss: 0.015809\n",
            "Epoch: 41 \tTraining Loss: 0.057150 \tValidation Loss: 0.015633\n",
            "Epoch: 42 \tTraining Loss: 0.051529 \tValidation Loss: 0.015265\n",
            "Epoch: 43 \tTraining Loss: 0.051311 \tValidation Loss: 0.014909\n",
            "Validation loss decreased (0.014920 --> 0.014909).  Saving model ...\n",
            "Epoch: 44 \tTraining Loss: 0.052202 \tValidation Loss: 0.014571\n",
            "Validation loss decreased (0.014909 --> 0.014571).  Saving model ...\n",
            "Epoch: 45 \tTraining Loss: 0.048291 \tValidation Loss: 0.014559\n",
            "Validation loss decreased (0.014571 --> 0.014559).  Saving model ...\n",
            "Epoch: 46 \tTraining Loss: 0.047863 \tValidation Loss: 0.014713\n",
            "Epoch: 47 \tTraining Loss: 0.046882 \tValidation Loss: 0.014701\n",
            "Epoch: 48 \tTraining Loss: 0.047790 \tValidation Loss: 0.014606\n",
            "Epoch: 49 \tTraining Loss: 0.047848 \tValidation Loss: 0.014832\n",
            "Epoch: 50 \tTraining Loss: 0.046906 \tValidation Loss: 0.014800\n",
            "Epoch: 51 \tTraining Loss: 0.047130 \tValidation Loss: 0.014799\n",
            "Epoch: 52 \tTraining Loss: 0.045484 \tValidation Loss: 0.014937\n",
            "Epoch: 53 \tTraining Loss: 0.043941 \tValidation Loss: 0.014733\n",
            "Epoch: 54 \tTraining Loss: 0.045001 \tValidation Loss: 0.014660\n",
            "Epoch: 55 \tTraining Loss: 0.042447 \tValidation Loss: 0.014581\n",
            "Epoch: 56 \tTraining Loss: 0.047731 \tValidation Loss: 0.014606\n",
            "Epoch: 57 \tTraining Loss: 0.046225 \tValidation Loss: 0.014455\n",
            "Validation loss decreased (0.014559 --> 0.014455).  Saving model ...\n",
            "Epoch: 58 \tTraining Loss: 0.043528 \tValidation Loss: 0.014601\n",
            "Epoch: 59 \tTraining Loss: 0.041266 \tValidation Loss: 0.015091\n",
            "Epoch: 60 \tTraining Loss: 0.042453 \tValidation Loss: 0.015484\n",
            "Epoch: 61 \tTraining Loss: 0.045393 \tValidation Loss: 0.015171\n",
            "Epoch: 62 \tTraining Loss: 0.040522 \tValidation Loss: 0.014590\n",
            "Epoch: 63 \tTraining Loss: 0.041084 \tValidation Loss: 0.014464\n",
            "Epoch: 64 \tTraining Loss: 0.041411 \tValidation Loss: 0.014565\n",
            "Epoch: 65 \tTraining Loss: 0.038199 \tValidation Loss: 0.014675\n",
            "Epoch: 66 \tTraining Loss: 0.041467 \tValidation Loss: 0.014894\n",
            "Epoch: 67 \tTraining Loss: 0.035851 \tValidation Loss: 0.015092\n",
            "Epoch: 68 \tTraining Loss: 0.041567 \tValidation Loss: 0.014970\n",
            "Epoch: 69 \tTraining Loss: 0.038175 \tValidation Loss: 0.014466\n",
            "Epoch: 70 \tTraining Loss: 0.036295 \tValidation Loss: 0.014244\n",
            "Validation loss decreased (0.014455 --> 0.014244).  Saving model ...\n",
            "Epoch: 71 \tTraining Loss: 0.037624 \tValidation Loss: 0.014308\n",
            "Epoch: 72 \tTraining Loss: 0.038403 \tValidation Loss: 0.014440\n",
            "Epoch: 73 \tTraining Loss: 0.037043 \tValidation Loss: 0.014595\n",
            "Epoch: 74 \tTraining Loss: 0.036832 \tValidation Loss: 0.014578\n",
            "Epoch: 75 \tTraining Loss: 0.034848 \tValidation Loss: 0.014616\n",
            "Epoch: 76 \tTraining Loss: 0.035111 \tValidation Loss: 0.014760\n",
            "Epoch: 77 \tTraining Loss: 0.037038 \tValidation Loss: 0.014403\n",
            "Epoch: 78 \tTraining Loss: 0.036189 \tValidation Loss: 0.014219\n",
            "Validation loss decreased (0.014244 --> 0.014219).  Saving model ...\n",
            "Epoch: 79 \tTraining Loss: 0.036497 \tValidation Loss: 0.014161\n",
            "Validation loss decreased (0.014219 --> 0.014161).  Saving model ...\n",
            "Epoch: 80 \tTraining Loss: 0.037696 \tValidation Loss: 0.014291\n",
            "Epoch: 81 \tTraining Loss: 0.035772 \tValidation Loss: 0.014416\n",
            "Epoch: 82 \tTraining Loss: 0.035276 \tValidation Loss: 0.014611\n",
            "Epoch: 83 \tTraining Loss: 0.037146 \tValidation Loss: 0.014548\n",
            "Epoch: 84 \tTraining Loss: 0.037435 \tValidation Loss: 0.014447\n",
            "Epoch: 85 \tTraining Loss: 0.034014 \tValidation Loss: 0.014357\n",
            "Epoch: 86 \tTraining Loss: 0.034294 \tValidation Loss: 0.014258\n",
            "Epoch: 87 \tTraining Loss: 0.033372 \tValidation Loss: 0.014241\n",
            "Epoch: 88 \tTraining Loss: 0.033472 \tValidation Loss: 0.014345\n",
            "Epoch: 89 \tTraining Loss: 0.033174 \tValidation Loss: 0.014255\n",
            "Epoch: 90 \tTraining Loss: 0.033620 \tValidation Loss: 0.014335\n",
            "Epoch: 91 \tTraining Loss: 0.035140 \tValidation Loss: 0.014406\n",
            "Epoch: 92 \tTraining Loss: 0.034065 \tValidation Loss: 0.014319\n",
            "Epoch: 93 \tTraining Loss: 0.034339 \tValidation Loss: 0.014292\n",
            "Epoch: 94 \tTraining Loss: 0.032319 \tValidation Loss: 0.014265\n",
            "Epoch: 95 \tTraining Loss: 0.031077 \tValidation Loss: 0.014207\n",
            "Epoch: 96 \tTraining Loss: 0.031448 \tValidation Loss: 0.014475\n",
            "Epoch: 97 \tTraining Loss: 0.033155 \tValidation Loss: 0.014452\n",
            "Epoch: 98 \tTraining Loss: 0.032390 \tValidation Loss: 0.014354\n",
            "Epoch: 99 \tTraining Loss: 0.030814 \tValidation Loss: 0.014238\n",
            "Epoch: 100 \tTraining Loss: 0.032871 \tValidation Loss: 0.014197\n",
            "Epoch: 101 \tTraining Loss: 0.031949 \tValidation Loss: 0.014107\n",
            "Validation loss decreased (0.014161 --> 0.014107).  Saving model ...\n",
            "Epoch: 102 \tTraining Loss: 0.032365 \tValidation Loss: 0.014103\n",
            "Validation loss decreased (0.014107 --> 0.014103).  Saving model ...\n",
            "Epoch: 103 \tTraining Loss: 0.031955 \tValidation Loss: 0.014117\n",
            "Epoch: 104 \tTraining Loss: 0.030828 \tValidation Loss: 0.014178\n",
            "Epoch: 105 \tTraining Loss: 0.033278 \tValidation Loss: 0.014193\n",
            "Epoch: 106 \tTraining Loss: 0.029547 \tValidation Loss: 0.014325\n",
            "Epoch: 107 \tTraining Loss: 0.031092 \tValidation Loss: 0.014307\n",
            "Epoch: 108 \tTraining Loss: 0.033495 \tValidation Loss: 0.014222\n",
            "Epoch: 109 \tTraining Loss: 0.031240 \tValidation Loss: 0.014127\n",
            "Epoch: 110 \tTraining Loss: 0.031166 \tValidation Loss: 0.014154\n",
            "Epoch: 111 \tTraining Loss: 0.029982 \tValidation Loss: 0.014205\n",
            "Epoch: 112 \tTraining Loss: 0.031925 \tValidation Loss: 0.014170\n",
            "Epoch: 113 \tTraining Loss: 0.030544 \tValidation Loss: 0.014257\n",
            "Epoch: 114 \tTraining Loss: 0.031201 \tValidation Loss: 0.014300\n",
            "Epoch: 115 \tTraining Loss: 0.028764 \tValidation Loss: 0.014275\n",
            "Epoch: 116 \tTraining Loss: 0.029509 \tValidation Loss: 0.014256\n",
            "Epoch: 117 \tTraining Loss: 0.028702 \tValidation Loss: 0.014353\n",
            "Epoch: 118 \tTraining Loss: 0.028401 \tValidation Loss: 0.014351\n",
            "Epoch: 119 \tTraining Loss: 0.030624 \tValidation Loss: 0.014246\n",
            "Epoch: 120 \tTraining Loss: 0.030471 \tValidation Loss: 0.014165\n",
            "Epoch: 121 \tTraining Loss: 0.029293 \tValidation Loss: 0.014092\n",
            "Validation loss decreased (0.014103 --> 0.014092).  Saving model ...\n",
            "Epoch: 122 \tTraining Loss: 0.029728 \tValidation Loss: 0.014083\n",
            "Validation loss decreased (0.014092 --> 0.014083).  Saving model ...\n",
            "Epoch: 123 \tTraining Loss: 0.029117 \tValidation Loss: 0.014129\n",
            "Epoch: 124 \tTraining Loss: 0.027430 \tValidation Loss: 0.014110\n",
            "Epoch: 125 \tTraining Loss: 0.029598 \tValidation Loss: 0.014108\n",
            "Epoch: 126 \tTraining Loss: 0.028250 \tValidation Loss: 0.014195\n",
            "Epoch: 127 \tTraining Loss: 0.029904 \tValidation Loss: 0.014156\n",
            "Epoch: 128 \tTraining Loss: 0.029205 \tValidation Loss: 0.014119\n",
            "Epoch: 129 \tTraining Loss: 0.027825 \tValidation Loss: 0.014119\n",
            "Epoch: 130 \tTraining Loss: 0.028474 \tValidation Loss: 0.014163\n",
            "Epoch: 131 \tTraining Loss: 0.028637 \tValidation Loss: 0.014132\n",
            "Epoch: 132 \tTraining Loss: 0.027933 \tValidation Loss: 0.014129\n",
            "Epoch: 133 \tTraining Loss: 0.026201 \tValidation Loss: 0.014202\n",
            "Epoch: 134 \tTraining Loss: 0.028774 \tValidation Loss: 0.014370\n",
            "Epoch: 135 \tTraining Loss: 0.027394 \tValidation Loss: 0.014266\n",
            "Epoch: 136 \tTraining Loss: 0.027842 \tValidation Loss: 0.014139\n",
            "Epoch: 137 \tTraining Loss: 0.026717 \tValidation Loss: 0.014068\n",
            "Validation loss decreased (0.014083 --> 0.014068).  Saving model ...\n",
            "Epoch: 138 \tTraining Loss: 0.027854 \tValidation Loss: 0.014067\n",
            "Validation loss decreased (0.014068 --> 0.014067).  Saving model ...\n",
            "Epoch: 139 \tTraining Loss: 0.027539 \tValidation Loss: 0.014110\n",
            "Epoch: 140 \tTraining Loss: 0.027038 \tValidation Loss: 0.014152\n",
            "Epoch: 141 \tTraining Loss: 0.028047 \tValidation Loss: 0.014246\n",
            "Epoch: 142 \tTraining Loss: 0.028608 \tValidation Loss: 0.014135\n",
            "Epoch: 143 \tTraining Loss: 0.028126 \tValidation Loss: 0.014124\n",
            "Epoch: 144 \tTraining Loss: 0.027782 \tValidation Loss: 0.014091\n",
            "Epoch: 145 \tTraining Loss: 0.027386 \tValidation Loss: 0.014092\n",
            "Epoch: 146 \tTraining Loss: 0.027051 \tValidation Loss: 0.014105\n",
            "Epoch: 147 \tTraining Loss: 0.027677 \tValidation Loss: 0.014087\n",
            "Epoch: 148 \tTraining Loss: 0.027953 \tValidation Loss: 0.014070\n",
            "Epoch: 149 \tTraining Loss: 0.026501 \tValidation Loss: 0.014069\n",
            "Epoch: 150 \tTraining Loss: 0.026973 \tValidation Loss: 0.014073\n",
            "Epoch: 151 \tTraining Loss: 0.026836 \tValidation Loss: 0.014076\n",
            "Epoch: 152 \tTraining Loss: 0.026476 \tValidation Loss: 0.014073\n",
            "Epoch: 153 \tTraining Loss: 0.026180 \tValidation Loss: 0.014122\n",
            "Epoch: 154 \tTraining Loss: 0.026811 \tValidation Loss: 0.014142\n",
            "Epoch: 155 \tTraining Loss: 0.026382 \tValidation Loss: 0.014077\n",
            "Epoch: 156 \tTraining Loss: 0.026738 \tValidation Loss: 0.014071\n",
            "Epoch: 157 \tTraining Loss: 0.026518 \tValidation Loss: 0.014069\n",
            "Epoch: 158 \tTraining Loss: 0.025029 \tValidation Loss: 0.014084\n",
            "Epoch: 159 \tTraining Loss: 0.025882 \tValidation Loss: 0.014091\n",
            "Epoch: 160 \tTraining Loss: 0.025885 \tValidation Loss: 0.014086\n",
            "Epoch: 161 \tTraining Loss: 0.025753 \tValidation Loss: 0.014076\n",
            "Epoch: 162 \tTraining Loss: 0.026012 \tValidation Loss: 0.014069\n",
            "Epoch: 163 \tTraining Loss: 0.025615 \tValidation Loss: 0.014078\n",
            "Epoch: 164 \tTraining Loss: 0.025577 \tValidation Loss: 0.014077\n",
            "Epoch: 165 \tTraining Loss: 0.026057 \tValidation Loss: 0.014068\n",
            "Epoch: 166 \tTraining Loss: 0.025287 \tValidation Loss: 0.014070\n",
            "Epoch: 167 \tTraining Loss: 0.025131 \tValidation Loss: 0.014067\n",
            "Epoch: 168 \tTraining Loss: 0.026572 \tValidation Loss: 0.014070\n",
            "Epoch: 169 \tTraining Loss: 0.024611 \tValidation Loss: 0.014065\n",
            "Validation loss decreased (0.014067 --> 0.014065).  Saving model ...\n",
            "Epoch: 170 \tTraining Loss: 0.024786 \tValidation Loss: 0.014089\n",
            "Epoch: 171 \tTraining Loss: 0.024752 \tValidation Loss: 0.014075\n",
            "Epoch: 172 \tTraining Loss: 0.025000 \tValidation Loss: 0.014069\n",
            "Epoch: 173 \tTraining Loss: 0.025219 \tValidation Loss: 0.014064\n",
            "Validation loss decreased (0.014065 --> 0.014064).  Saving model ...\n",
            "Epoch: 174 \tTraining Loss: 0.025465 \tValidation Loss: 0.014065\n",
            "Epoch: 175 \tTraining Loss: 0.025663 \tValidation Loss: 0.014065\n",
            "Epoch: 176 \tTraining Loss: 0.024918 \tValidation Loss: 0.014068\n",
            "Epoch: 177 \tTraining Loss: 0.024423 \tValidation Loss: 0.014071\n",
            "Epoch: 178 \tTraining Loss: 0.024666 \tValidation Loss: 0.014066\n",
            "Epoch: 179 \tTraining Loss: 0.024973 \tValidation Loss: 0.014066\n",
            "Epoch: 180 \tTraining Loss: 0.024946 \tValidation Loss: 0.014067\n",
            "Epoch: 181 \tTraining Loss: 0.025108 \tValidation Loss: 0.014068\n",
            "Epoch: 182 \tTraining Loss: 0.025172 \tValidation Loss: 0.014074\n",
            "Epoch: 183 \tTraining Loss: 0.024777 \tValidation Loss: 0.014075\n",
            "Epoch: 184 \tTraining Loss: 0.025353 \tValidation Loss: 0.014072\n",
            "Epoch: 185 \tTraining Loss: 0.024476 \tValidation Loss: 0.014072\n",
            "Epoch: 186 \tTraining Loss: 0.024897 \tValidation Loss: 0.014073\n",
            "Epoch: 187 \tTraining Loss: 0.023720 \tValidation Loss: 0.014074\n",
            "Epoch: 188 \tTraining Loss: 0.024451 \tValidation Loss: 0.014068\n",
            "Epoch: 189 \tTraining Loss: 0.024422 \tValidation Loss: 0.014075\n",
            "Epoch: 190 \tTraining Loss: 0.024541 \tValidation Loss: 0.014118\n",
            "Epoch: 191 \tTraining Loss: 0.024142 \tValidation Loss: 0.014110\n",
            "Epoch: 192 \tTraining Loss: 0.023913 \tValidation Loss: 0.014069\n",
            "Epoch: 193 \tTraining Loss: 0.023588 \tValidation Loss: 0.014070\n",
            "Epoch: 194 \tTraining Loss: 0.024062 \tValidation Loss: 0.014069\n",
            "Epoch: 195 \tTraining Loss: 0.024242 \tValidation Loss: 0.014100\n",
            "Epoch: 196 \tTraining Loss: 0.023984 \tValidation Loss: 0.014089\n",
            "Epoch: 197 \tTraining Loss: 0.023324 \tValidation Loss: 0.014066\n",
            "Epoch: 198 \tTraining Loss: 0.024108 \tValidation Loss: 0.014072\n",
            "Epoch: 199 \tTraining Loss: 0.023645 \tValidation Loss: 0.014094\n",
            "Epoch: 200 \tTraining Loss: 0.024309 \tValidation Loss: 0.014102\n"
          ],
          "name": "stdout"
        }
      ]
    },
    {
      "metadata": {
        "id": "IXmauK4G82Li",
        "colab_type": "code",
        "colab": {}
      },
      "cell_type": "code",
      "source": [
        "model.load_state_dict(torch.load('model.pt'))"
      ],
      "execution_count": 0,
      "outputs": []
    },
    {
      "metadata": {
        "id": "hahP4AFv93Cj",
        "colab_type": "code",
        "colab": {
          "base_uri": "https://localhost:8080/",
          "height": 282
        },
        "outputId": "0f068d7e-bd2b-451e-f0d0-38a28840480e"
      },
      "cell_type": "code",
      "source": [
        "plt.plot(train_losses,label='Training Label')\n",
        "plt.plot(val_losses,label='Validation Label')\n",
        "plt.legend(frameon=False)"
      ],
      "execution_count": 43,
      "outputs": [
        {
          "output_type": "execute_result",
          "data": {
            "text/plain": [
              "<matplotlib.legend.Legend at 0x7efdeb16e860>"
            ]
          },
          "metadata": {
            "tags": []
          },
          "execution_count": 43
        },
        {
          "output_type": "display_data",
          "data": {
            "image/png": "[encoded data removed]",
            "text/plain": [
              "<Figure size 432x288 with 1 Axes>"
            ]
          },
          "metadata": {
            "tags": []
          }
        }
      ]
    },
    {
      "metadata": {
        "id": "a20tNNxK6Sei",
        "colab_type": "code",
        "colab": {
          "base_uri": "https://localhost:8080/",
          "height": 51
        },
        "outputId": "910521eb-4009-437c-fa0b-05f90dd804ec"
      },
      "cell_type": "code",
      "source": [
        "\n",
        "# initialize lists to monitor test loss and accuracy\n",
        "test_loss = 0.0\n",
        "\n",
        "\n",
        "\n",
        "model.eval() # prep model for evaluation\n",
        "\n",
        "for data, target in test_loader:\n",
        "    # forward pass: compute predicted outputs by passing inputs to the model\n",
        "    output = model(data)\n",
        "    # calculate the loss\n",
        "    loss = criterion(output, target)\n",
        "    # update test loss \n",
        "    test_loss += loss.item()*data.size(0)\n",
        "\n",
        "\n",
        "\n",
        "# calculate and print avg test loss\n",
        "test_loss = test_loss/len(test_loader.dataset)\n",
        "\n",
        "print('Test Loss: {:.6f}\\n'.format(test_loss))\n",
        "\n"
      ],
      "execution_count": 44,
      "outputs": [
        {
          "output_type": "stream",
          "text": [
            "Test Loss: 0.020842\n",
            "\n"
          ],
          "name": "stdout"
        }
      ]
    }
  ]
}